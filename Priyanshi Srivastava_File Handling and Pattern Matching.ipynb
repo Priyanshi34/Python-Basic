{
 "cells": [
  {
   "cell_type": "markdown",
   "id": "f6ce5f91",
   "metadata": {},
   "source": [
    "# String Handling\n",
    "## Pattern Matching with Regular Expressions\n",
    "Regular expression is very powerful way to match pattern and find text from a document. this can be used to validate data, web scraping and so much more\n",
    "\n",
    "Here is a regular expression cheat to understand various syntax and special sequences https://cheatography.com/mutanclan/cheat-sheets/python-regular-expression-regex/.\n",
    "Regex PlayGround - https://pythex.org/\n",
    "\n",
    "    1. findall\n",
    "    2. search\n",
    "    3. split\n",
    "    4. sub\n",
    "    5. finditer\n",
    "    6. meta character\n",
    "    7. special sequence\n",
    "    8. rawstring\n",
    "\n",
    "\n",
    "## Files IO\n",
    "\n",
    "we'll learn about Python file operations. More specifically, opening a file, reading from it, writing into it, closing it, and various file methods that you should be aware of.\n",
    "\n",
    "When we want to read from or write to a file, we need to open it first. When we are done, it needs to be closed so that the resources that are tied with the file are freed.\n",
    "\n",
    "Hence, in Python, a file operation takes place in the following order:\n",
    "\n",
    "1. Open a file\n",
    "2. Read or write (perform operation)\n",
    "3. Close the file\n",
    "\n",
    "#### File Modes\n",
    "    r\tOpens a file for reading. (default)\n",
    "    w\tOpens a file for writing. Creates a new file if it does not exist or truncates the file if it exists.\n",
    "    x\tOpens a file for exclusive creation. If the file already exists, the operation fails.\n",
    "    a\tOpens a file for appending at the end of the file. Creates a new file if it does not exist.\n",
    "    t\tOpens in text mode. (default)\n",
    "    b\tOpens in binary mode.\n",
    "    +\tOpens a file for updating (reading and writing)\n",
    "\n",
    "* Reading and Writing Files\n",
    "    ```python\n",
    "    f = open(\"test.txt\")\n",
    "    f = open(\"C:/Python38/README.txt\")\n",
    "    ```\n",
    "    \n",
    "    ```python\n",
    "    f = open(\"test.txt\")      # equivalent to 'r' or 'rt'\n",
    "    f = open(\"test.txt\",'w')  # write in text mode\n",
    "    f = open(\"img.bmp\",'r+b') # read and write in binary mode\n",
    "    ```\n",
    "* Closing a file\n",
    "    ```python\n",
    "    f = open(\"test.txt\", encoding = 'utf-8')\n",
    "    # perform file operations\n",
    "    f.close()\n",
    "    ```\n",
    "    \n",
    "    ```python\n",
    "    with open(\"test.txt\",'w',encoding = 'utf-8') as f:\n",
    "       f.write(\"my first file\\n\")\n",
    "       f.write(\"This file\\n\\n\")\n",
    "       f.write(\"contains three lines\\n\")\n",
    "    ```\n",
    "* Organizing Files with os module\n",
    "    1. Creating a file\n",
    "    2. Renaming a flie\n",
    "    3. Deleting a file\n",
    "\n",
    "    4. Creating a folder\n",
    "    5. Renaming a folder\n",
    "    6. Deleting a folder\n",
    "    7. Copy\n",
    "    8. Move"
   ]
  },
  {
   "cell_type": "code",
   "execution_count": 2,
   "id": "0e6b7949",
   "metadata": {},
   "outputs": [],
   "source": [
    "import re\n",
    "import os"
   ]
  },
  {
   "cell_type": "code",
   "execution_count": 18,
   "id": "d5fd8d67",
   "metadata": {},
   "outputs": [],
   "source": [
    "text = \"\"\"\n",
    "My name is naveen my email address is naveen.singh@outlook.in my contact number is 9540150666 and my post code is 110009\n",
    "I ate 5 mangos\n",
    "\"\"\""
   ]
  },
  {
   "cell_type": "code",
   "execution_count": 19,
   "id": "cde04b16",
   "metadata": {},
   "outputs": [
    {
     "data": {
      "text/plain": [
       "['naveen', 'naveen']"
      ]
     },
     "execution_count": 19,
     "metadata": {},
     "output_type": "execute_result"
    }
   ],
   "source": [
    "re.findall(r\"naveen\", text)"
   ]
  },
  {
   "cell_type": "code",
   "execution_count": 20,
   "id": "7574b5b2",
   "metadata": {},
   "outputs": [
    {
     "data": {
      "text/plain": [
       "False"
      ]
     },
     "execution_count": 20,
     "metadata": {},
     "output_type": "execute_result"
    }
   ],
   "source": [
    "bool(re.search(r\"naveen--\", text))"
   ]
  },
  {
   "cell_type": "code",
   "execution_count": 21,
   "id": "80c71781",
   "metadata": {},
   "outputs": [
    {
     "data": {
      "text/plain": [
       "['\\nMy name is ',\n",
       " ' my email address is ',\n",
       " '.singh@outlook.in my contact number is 9540150666 and my post code is 110009\\nI ate 5 mangos\\n']"
      ]
     },
     "execution_count": 21,
     "metadata": {},
     "output_type": "execute_result"
    }
   ],
   "source": [
    "re.split(r\"naveen\", text)"
   ]
  },
  {
   "cell_type": "code",
   "execution_count": 22,
   "id": "71be20d9",
   "metadata": {},
   "outputs": [
    {
     "data": {
      "text/plain": [
       "'\\nMy name is naveen my email address is naveen.singh@outlook.in my contact number is 9five401five0666 and my post code is 110009\\nI ate five mangos\\n'"
      ]
     },
     "execution_count": 22,
     "metadata": {},
     "output_type": "execute_result"
    }
   ],
   "source": [
    "re.sub(r\"5\", \"five\", text)"
   ]
  },
  {
   "cell_type": "code",
   "execution_count": 23,
   "id": "1ba3137f",
   "metadata": {},
   "outputs": [],
   "source": [
    "email_pattern = r\"[a-zA-Z0-9.-_]+@[a-zA-Z0-9.-_]+\\.[a-zA-Z0-9.-_]+\""
   ]
  },
  {
   "cell_type": "code",
   "execution_count": 24,
   "id": "96ccd3cf",
   "metadata": {},
   "outputs": [
    {
     "data": {
      "text/plain": [
       "True"
      ]
     },
     "execution_count": 24,
     "metadata": {},
     "output_type": "execute_result"
    }
   ],
   "source": [
    "bool(re.search(email_pattern, text))"
   ]
  },
  {
   "cell_type": "code",
   "execution_count": 90,
   "id": "db4bddef",
   "metadata": {},
   "outputs": [],
   "source": [
    "#File Management"
   ]
  },
  {
   "cell_type": "code",
   "execution_count": 92,
   "id": "70049574",
   "metadata": {
    "collapsed": true
   },
   "outputs": [
    {
     "data": {
      "text/plain": [
       "['CLD_CONTINUED',\n",
       " 'CLD_DUMPED',\n",
       " 'CLD_EXITED',\n",
       " 'CLD_KILLED',\n",
       " 'CLD_STOPPED',\n",
       " 'CLD_TRAPPED',\n",
       " 'DirEntry',\n",
       " 'EX_CANTCREAT',\n",
       " 'EX_CONFIG',\n",
       " 'EX_DATAERR',\n",
       " 'EX_IOERR',\n",
       " 'EX_NOHOST',\n",
       " 'EX_NOINPUT',\n",
       " 'EX_NOPERM',\n",
       " 'EX_NOUSER',\n",
       " 'EX_OK',\n",
       " 'EX_OSERR',\n",
       " 'EX_OSFILE',\n",
       " 'EX_PROTOCOL',\n",
       " 'EX_SOFTWARE',\n",
       " 'EX_TEMPFAIL',\n",
       " 'EX_UNAVAILABLE',\n",
       " 'EX_USAGE',\n",
       " 'F_LOCK',\n",
       " 'F_OK',\n",
       " 'F_TEST',\n",
       " 'F_TLOCK',\n",
       " 'F_ULOCK',\n",
       " 'GenericAlias',\n",
       " 'Mapping',\n",
       " 'MutableMapping',\n",
       " 'NGROUPS_MAX',\n",
       " 'O_ACCMODE',\n",
       " 'O_APPEND',\n",
       " 'O_ASYNC',\n",
       " 'O_CLOEXEC',\n",
       " 'O_CREAT',\n",
       " 'O_DIRECTORY',\n",
       " 'O_DSYNC',\n",
       " 'O_EXCL',\n",
       " 'O_EXLOCK',\n",
       " 'O_NDELAY',\n",
       " 'O_NOCTTY',\n",
       " 'O_NOFOLLOW',\n",
       " 'O_NONBLOCK',\n",
       " 'O_RDONLY',\n",
       " 'O_RDWR',\n",
       " 'O_SHLOCK',\n",
       " 'O_SYNC',\n",
       " 'O_TRUNC',\n",
       " 'O_WRONLY',\n",
       " 'POSIX_SPAWN_CLOSE',\n",
       " 'POSIX_SPAWN_DUP2',\n",
       " 'POSIX_SPAWN_OPEN',\n",
       " 'PRIO_PGRP',\n",
       " 'PRIO_PROCESS',\n",
       " 'PRIO_USER',\n",
       " 'P_ALL',\n",
       " 'P_NOWAIT',\n",
       " 'P_NOWAITO',\n",
       " 'P_PGID',\n",
       " 'P_PID',\n",
       " 'P_WAIT',\n",
       " 'PathLike',\n",
       " 'RTLD_GLOBAL',\n",
       " 'RTLD_LAZY',\n",
       " 'RTLD_LOCAL',\n",
       " 'RTLD_NODELETE',\n",
       " 'RTLD_NOLOAD',\n",
       " 'RTLD_NOW',\n",
       " 'R_OK',\n",
       " 'SCHED_FIFO',\n",
       " 'SCHED_OTHER',\n",
       " 'SCHED_RR',\n",
       " 'SEEK_CUR',\n",
       " 'SEEK_DATA',\n",
       " 'SEEK_END',\n",
       " 'SEEK_HOLE',\n",
       " 'SEEK_SET',\n",
       " 'ST_NOSUID',\n",
       " 'ST_RDONLY',\n",
       " 'TMP_MAX',\n",
       " 'WCONTINUED',\n",
       " 'WCOREDUMP',\n",
       " 'WEXITED',\n",
       " 'WEXITSTATUS',\n",
       " 'WIFCONTINUED',\n",
       " 'WIFEXITED',\n",
       " 'WIFSIGNALED',\n",
       " 'WIFSTOPPED',\n",
       " 'WNOHANG',\n",
       " 'WNOWAIT',\n",
       " 'WSTOPPED',\n",
       " 'WSTOPSIG',\n",
       " 'WTERMSIG',\n",
       " 'WUNTRACED',\n",
       " 'W_OK',\n",
       " 'X_OK',\n",
       " '_Environ',\n",
       " '__all__',\n",
       " '__builtins__',\n",
       " '__cached__',\n",
       " '__doc__',\n",
       " '__file__',\n",
       " '__loader__',\n",
       " '__name__',\n",
       " '__package__',\n",
       " '__spec__',\n",
       " '_check_methods',\n",
       " '_execvpe',\n",
       " '_exists',\n",
       " '_exit',\n",
       " '_fspath',\n",
       " '_fwalk',\n",
       " '_get_exports_list',\n",
       " '_spawnvef',\n",
       " '_walk',\n",
       " '_wrap_close',\n",
       " 'abc',\n",
       " 'abort',\n",
       " 'access',\n",
       " 'altsep',\n",
       " 'chdir',\n",
       " 'chflags',\n",
       " 'chmod',\n",
       " 'chown',\n",
       " 'chroot',\n",
       " 'close',\n",
       " 'closerange',\n",
       " 'confstr',\n",
       " 'confstr_names',\n",
       " 'cpu_count',\n",
       " 'ctermid',\n",
       " 'curdir',\n",
       " 'defpath',\n",
       " 'device_encoding',\n",
       " 'devnull',\n",
       " 'dup',\n",
       " 'dup2',\n",
       " 'environ',\n",
       " 'environb',\n",
       " 'error',\n",
       " 'execl',\n",
       " 'execle',\n",
       " 'execlp',\n",
       " 'execlpe',\n",
       " 'execv',\n",
       " 'execve',\n",
       " 'execvp',\n",
       " 'execvpe',\n",
       " 'extsep',\n",
       " 'fchdir',\n",
       " 'fchmod',\n",
       " 'fchown',\n",
       " 'fdopen',\n",
       " 'fork',\n",
       " 'forkpty',\n",
       " 'fpathconf',\n",
       " 'fsdecode',\n",
       " 'fsencode',\n",
       " 'fspath',\n",
       " 'fstat',\n",
       " 'fstatvfs',\n",
       " 'fsync',\n",
       " 'ftruncate',\n",
       " 'fwalk',\n",
       " 'get_blocking',\n",
       " 'get_exec_path',\n",
       " 'get_inheritable',\n",
       " 'get_terminal_size',\n",
       " 'getcwd',\n",
       " 'getcwdb',\n",
       " 'getegid',\n",
       " 'getenv',\n",
       " 'getenvb',\n",
       " 'geteuid',\n",
       " 'getgid',\n",
       " 'getgrouplist',\n",
       " 'getgroups',\n",
       " 'getloadavg',\n",
       " 'getlogin',\n",
       " 'getpgid',\n",
       " 'getpgrp',\n",
       " 'getpid',\n",
       " 'getppid',\n",
       " 'getpriority',\n",
       " 'getsid',\n",
       " 'getuid',\n",
       " 'initgroups',\n",
       " 'isatty',\n",
       " 'kill',\n",
       " 'killpg',\n",
       " 'lchflags',\n",
       " 'lchmod',\n",
       " 'lchown',\n",
       " 'linesep',\n",
       " 'link',\n",
       " 'listdir',\n",
       " 'lockf',\n",
       " 'lseek',\n",
       " 'lstat',\n",
       " 'major',\n",
       " 'makedev',\n",
       " 'makedirs',\n",
       " 'minor',\n",
       " 'mkdir',\n",
       " 'mkfifo',\n",
       " 'mknod',\n",
       " 'name',\n",
       " 'nice',\n",
       " 'open',\n",
       " 'openpty',\n",
       " 'pardir',\n",
       " 'path',\n",
       " 'pathconf',\n",
       " 'pathconf_names',\n",
       " 'pathsep',\n",
       " 'pipe',\n",
       " 'popen',\n",
       " 'posix_spawn',\n",
       " 'posix_spawnp',\n",
       " 'pread',\n",
       " 'preadv',\n",
       " 'putenv',\n",
       " 'pwrite',\n",
       " 'pwritev',\n",
       " 'read',\n",
       " 'readlink',\n",
       " 'readv',\n",
       " 'register_at_fork',\n",
       " 'remove',\n",
       " 'removedirs',\n",
       " 'rename',\n",
       " 'renames',\n",
       " 'replace',\n",
       " 'rmdir',\n",
       " 'scandir',\n",
       " 'sched_get_priority_max',\n",
       " 'sched_get_priority_min',\n",
       " 'sched_yield',\n",
       " 'sendfile',\n",
       " 'sep',\n",
       " 'set_blocking',\n",
       " 'set_inheritable',\n",
       " 'setegid',\n",
       " 'seteuid',\n",
       " 'setgid',\n",
       " 'setgroups',\n",
       " 'setpgid',\n",
       " 'setpgrp',\n",
       " 'setpriority',\n",
       " 'setregid',\n",
       " 'setreuid',\n",
       " 'setsid',\n",
       " 'setuid',\n",
       " 'spawnl',\n",
       " 'spawnle',\n",
       " 'spawnlp',\n",
       " 'spawnlpe',\n",
       " 'spawnv',\n",
       " 'spawnve',\n",
       " 'spawnvp',\n",
       " 'spawnvpe',\n",
       " 'st',\n",
       " 'stat',\n",
       " 'stat_result',\n",
       " 'statvfs',\n",
       " 'statvfs_result',\n",
       " 'strerror',\n",
       " 'supports_bytes_environ',\n",
       " 'supports_dir_fd',\n",
       " 'supports_effective_ids',\n",
       " 'supports_fd',\n",
       " 'supports_follow_symlinks',\n",
       " 'symlink',\n",
       " 'sync',\n",
       " 'sys',\n",
       " 'sysconf',\n",
       " 'sysconf_names',\n",
       " 'system',\n",
       " 'tcgetpgrp',\n",
       " 'tcsetpgrp',\n",
       " 'terminal_size',\n",
       " 'times',\n",
       " 'times_result',\n",
       " 'truncate',\n",
       " 'ttyname',\n",
       " 'umask',\n",
       " 'uname',\n",
       " 'uname_result',\n",
       " 'unlink',\n",
       " 'unsetenv',\n",
       " 'urandom',\n",
       " 'utime',\n",
       " 'wait',\n",
       " 'wait3',\n",
       " 'wait4',\n",
       " 'waitpid',\n",
       " 'waitstatus_to_exitcode',\n",
       " 'walk',\n",
       " 'write',\n",
       " 'writev']"
      ]
     },
     "execution_count": 92,
     "metadata": {},
     "output_type": "execute_result"
    }
   ],
   "source": [
    "dir(os)"
   ]
  },
  {
   "cell_type": "code",
   "execution_count": 3,
   "id": "01d7ce0b",
   "metadata": {},
   "outputs": [
    {
     "data": {
      "text/plain": [
       "['.ipynb_checkpoints',\n",
       " 'DataTypes in Detail_Priyanshi.ipynb',\n",
       " 'File Handling and Pattern Matching.ipynb',\n",
       " 'Priyanshi_Srivastava_Loop & Function.ipynb',\n",
       " 'SUMIT_SAURAV_Loop _&_Function.ipynb',\n",
       " 'Variables and Data Types Notes_Priyanshi.ipynb']"
      ]
     },
     "execution_count": 3,
     "metadata": {},
     "output_type": "execute_result"
    }
   ],
   "source": [
    "os.getcwd()\n",
    "os.listdir()"
   ]
  },
  {
   "cell_type": "code",
   "execution_count": 4,
   "id": "a4dfa7fb",
   "metadata": {},
   "outputs": [
    {
     "name": "stdout",
     "output_type": "stream",
     "text": [
      "DataTypes in Detail_Priyanshi.ipynb\n",
      "File Handling and Pattern Matching.ipynb\n",
      "Priyanshi_Srivastava_Loop & Function.ipynb\n",
      "SUMIT_SAURAV_Loop _&_Function.ipynb\n",
      "Variables and Data Types Notes_Priyanshi.ipynb\n"
     ]
    }
   ],
   "source": [
    "for i in os.listdir():\n",
    "    if i.startswith(\".\") == False:\n",
    "        print(i)"
   ]
  },
  {
   "cell_type": "code",
   "execution_count": 156,
   "id": "72d01733",
   "metadata": {},
   "outputs": [],
   "source": [
    "os.mkdir(\"folder\")"
   ]
  },
  {
   "cell_type": "code",
   "execution_count": 6,
   "id": "81c625ec",
   "metadata": {},
   "outputs": [],
   "source": [
    "file = open(\"new_folder/newfile.txt\", \"w\")\n",
    "file.close()"
   ]
  },
  {
   "cell_type": "code",
   "execution_count": 7,
   "id": "fcb209cb",
   "metadata": {},
   "outputs": [],
   "source": [
    "with open(\"new_folder/newfile2.txt\", \"w\") as fh:\n",
    "    fh.write(\"Hello world\")"
   ]
  },
  {
   "cell_type": "code",
   "execution_count": 8,
   "id": "974aa60e",
   "metadata": {},
   "outputs": [],
   "source": [
    "os.rename(\"new_folder/newfile2.txt\", \"new_folder/newfile3.txt\")"
   ]
  },
  {
   "cell_type": "code",
   "execution_count": 9,
   "id": "3cea7511",
   "metadata": {},
   "outputs": [],
   "source": [
    "os.remove(\"new_folder/newfile.txt\")"
   ]
  },
  {
   "cell_type": "code",
   "execution_count": 10,
   "id": "59107392",
   "metadata": {
    "collapsed": true
   },
   "outputs": [
    {
     "ename": "OSError",
     "evalue": "[WinError 145] The directory is not empty: 'new_folder/'",
     "output_type": "error",
     "traceback": [
      "\u001b[1;31m---------------------------------------------------------------------------\u001b[0m",
      "\u001b[1;31mOSError\u001b[0m                                   Traceback (most recent call last)",
      "Input \u001b[1;32mIn [10]\u001b[0m, in \u001b[0;36m<cell line: 1>\u001b[1;34m()\u001b[0m\n\u001b[1;32m----> 1\u001b[0m \u001b[43mos\u001b[49m\u001b[38;5;241;43m.\u001b[39;49m\u001b[43mrmdir\u001b[49m\u001b[43m(\u001b[49m\u001b[38;5;124;43m\"\u001b[39;49m\u001b[38;5;124;43mnew_folder/\u001b[39;49m\u001b[38;5;124;43m\"\u001b[39;49m\u001b[43m)\u001b[49m\n",
      "\u001b[1;31mOSError\u001b[0m: [WinError 145] The directory is not empty: 'new_folder/'"
     ]
    }
   ],
   "source": [
    "os.rmdir(\"new_folder/\")"
   ]
  },
  {
   "cell_type": "markdown",
   "id": "1ae04143",
   "metadata": {},
   "source": [
    "***Q: create a file with your descriptive profile information (it can be dummy data) and write regular expression to extract data with pattern from that file ie: Name, phone number, email address or other patterns that you can match***"
   ]
  },
  {
   "cell_type": "code",
   "execution_count": 116,
   "id": "cbfd450b",
   "metadata": {},
   "outputs": [],
   "source": [
    "import re\n",
    "import os"
   ]
  },
  {
   "cell_type": "code",
   "execution_count": 154,
   "id": "b5f445db",
   "metadata": {},
   "outputs": [
    {
     "data": {
      "text/plain": [
       "['.ipynb_checkpoints',\n",
       " 'DataTypes in Detail_Priyanshi.ipynb',\n",
       " 'File Handling and Pattern Matching.ipynb',\n",
       " 'filee',\n",
       " 'filee.txt',\n",
       " 'new_folder',\n",
       " 'Priyanshi_Srivastava_Loop & Function.ipynb',\n",
       " 'SUMIT_SAURAV_Loop _&_Function.ipynb',\n",
       " 'Variables and Data Types Notes_Priyanshi.ipynb']"
      ]
     },
     "execution_count": 154,
     "metadata": {},
     "output_type": "execute_result"
    }
   ],
   "source": [
    "os.getcwd()\n",
    "os.listdir()"
   ]
  },
  {
   "cell_type": "code",
   "execution_count": 174,
   "id": "53a442c8",
   "metadata": {},
   "outputs": [
    {
     "name": "stdout",
     "output_type": "stream",
     "text": [
      "DataTypes in Detail_Priyanshi.ipynb\n",
      "File Handling and Pattern Matching.ipynb\n",
      "filee\n",
      "filee.txt\n",
      "folder\n",
      "new_folder\n",
      "Priyanshi_Srivastava_Loop & Function.ipynb\n",
      "SUMIT_SAURAV_Loop _&_Function.ipynb\n",
      "Variables and Data Types Notes_Priyanshi.ipynb\n"
     ]
    }
   ],
   "source": [
    "for i in os.listdir():\n",
    "    if i.startswith(\".\") == False:\n",
    "        print(i)"
   ]
  },
  {
   "cell_type": "code",
   "execution_count": 175,
   "id": "2ef30fbb",
   "metadata": {},
   "outputs": [
    {
     "ename": "FileExistsError",
     "evalue": "[WinError 183] Cannot create a file when that file already exists: 'D:/ReExprssion'",
     "output_type": "error",
     "traceback": [
      "\u001b[1;31m---------------------------------------------------------------------------\u001b[0m",
      "\u001b[1;31mFileExistsError\u001b[0m                           Traceback (most recent call last)",
      "Input \u001b[1;32mIn [175]\u001b[0m, in \u001b[0;36m<cell line: 1>\u001b[1;34m()\u001b[0m\n\u001b[1;32m----> 1\u001b[0m \u001b[43mos\u001b[49m\u001b[38;5;241;43m.\u001b[39;49m\u001b[43mmkdir\u001b[49m\u001b[43m(\u001b[49m\u001b[38;5;124;43m\"\u001b[39;49m\u001b[38;5;124;43mD:/ReExprssion\u001b[39;49m\u001b[38;5;124;43m\"\u001b[39;49m\u001b[43m)\u001b[49m\n",
      "\u001b[1;31mFileExistsError\u001b[0m: [WinError 183] Cannot create a file when that file already exists: 'D:/ReExprssion'"
     ]
    }
   ],
   "source": [
    "os.mkdir(\"D:/ReExprssion\")"
   ]
  },
  {
   "cell_type": "code",
   "execution_count": 176,
   "id": "d8e622ce",
   "metadata": {},
   "outputs": [],
   "source": [
    "with open(\"D:/ReExprssion/text.txt\",\"w\")as f:\n",
    "    f.write(\"Hello, I am Priyanshi Srivastav from Bhilwara, I am working in Ag tech. as RPA developer.My email address is priyanshisrivastava23@gmail.com and conact number is 9483925745 post code is 271865\" )\n",
    "  "
   ]
  },
  {
   "cell_type": "code",
   "execution_count": 177,
   "id": "e31ef619",
   "metadata": {},
   "outputs": [
    {
     "name": "stdout",
     "output_type": "stream",
     "text": [
      "Hello, I am Priyanshi Srivastav from Bhilwara, I am working in Ag tech. as RPA developer.My email address is priyanshisrivastava23@gmail.com and conact number is 9483925745 post code is 271865\n"
     ]
    }
   ],
   "source": [
    "file = open(\"D:/ReExprssion/text.txt\",\"r\")\n",
    "print(file.read())"
   ]
  },
  {
   "cell_type": "code",
   "execution_count": 182,
   "id": "59ce6b91",
   "metadata": {},
   "outputs": [],
   "source": [
    "text=\"Hello, I am Priyanshi Srivastav from Bhilwara, I am working in Ag tech. as RPA developer.My email address is priyanshisrivastava23@gmail.com and conact number is 9483925745 post code is 271865\""
   ]
  },
  {
   "cell_type": "code",
   "execution_count": 183,
   "id": "265d0196",
   "metadata": {},
   "outputs": [
    {
     "data": {
      "text/plain": [
       "['Bhi']"
      ]
     },
     "execution_count": 183,
     "metadata": {},
     "output_type": "execute_result"
    }
   ],
   "source": [
    "re.findall(r\"Bhi\",text)"
   ]
  },
  {
   "cell_type": "code",
   "execution_count": 184,
   "id": "57b7d349",
   "metadata": {},
   "outputs": [
    {
     "name": "stdout",
     "output_type": "stream",
     "text": [
      "['', 'H', 'e', 'l', 'l', 'o', ',', ' ', 'I', ' ', 'a', 'm', ' ', 'P', 'r', 'i', 'y', 'a', 'n', 's', 'h', 'i', ' ', 'S', 'r', 'i', 'v', 'a', 's', 't', 'a', 'v', ' ', 'f', 'r', 'o', 'm', ' ', 'B', 'h', 'i', 'l', 'w', 'a', 'r', 'a', ',', ' ', 'I', ' ', 'a', 'm', ' ', 'w', 'o', 'r', 'k', 'i', 'n', 'g', ' ', 'i', 'n', ' ', 'A', 'g', ' ', 't', 'e', 'c', 'h', '.', ' ', 'a', 's', ' ', 'R', 'P', 'A', ' ', 'd', 'e', 'v', 'e', 'l', 'o', 'p', 'e', 'r', '.', 'M', 'y', ' ', 'e', 'm', 'a', 'i', 'l', ' ', 'a', 'd', 'd', 'r', 'e', 's', 's', ' ', 'i', 's', ' ', 'p', 'r', 'i', 'y', 'a', 'n', 's', 'h', 'i', 's', 'r', 'i', 'v', 'a', 's', 't', 'a', 'v', 'a', '2', '3', '@', 'g', 'm', 'a', 'i', 'l', '.', 'c', 'o', 'm', ' ', 'a', 'n', 'd', ' ', 'c', 'o', 'n', 'a', 'c', 't', ' ', 'n', 'u', 'm', 'b', 'e', 'r', ' ', 'i', 's', ' ', '9', '4', '8', '3', '9', '2', '5', '7', '4', '5', ' ', 'p', 'o', 's', 't', ' ', 'c', 'o', 'd', 'e', ' ', 'i', 's', ' ', '2', '7', '1', '8', '6', '5', '']\n"
     ]
    }
   ],
   "source": [
    "v=re.split(r\"\" ,text)\n",
    "print(v)"
   ]
  },
  {
   "cell_type": "code",
   "execution_count": 185,
   "id": "e2aa862c",
   "metadata": {},
   "outputs": [
    {
     "data": {
      "text/plain": [
       "['Hello',\n",
       " ' I am Priyanshi Srivastav from Bhilwara',\n",
       " ' I am working in Ag tech. as RPA developer.My email address is priyanshisrivastava23@gmail.com and conact number is 9483925745 post code is 271865']"
      ]
     },
     "execution_count": 185,
     "metadata": {},
     "output_type": "execute_result"
    }
   ],
   "source": [
    "re.split(r\",\", text)"
   ]
  },
  {
   "cell_type": "code",
   "execution_count": 186,
   "id": "cd0fdb37",
   "metadata": {},
   "outputs": [],
   "source": [
    "email_pattern = r\"[a-zA-Z0-9.-_]+@[a-zA-Z0-9.-_]+\\.[a-zA-Z0-9.-_]+\""
   ]
  },
  {
   "cell_type": "code",
   "execution_count": 187,
   "id": "69caad01",
   "metadata": {},
   "outputs": [
    {
     "data": {
      "text/plain": [
       "True"
      ]
     },
     "execution_count": 187,
     "metadata": {},
     "output_type": "execute_result"
    }
   ],
   "source": [
    "bool(re.search(email_pattern, text))"
   ]
  },
  {
   "cell_type": "code",
   "execution_count": 188,
   "id": "55963612",
   "metadata": {},
   "outputs": [
    {
     "name": "stdout",
     "output_type": "stream",
     "text": [
      "Priyanshi\n"
     ]
    }
   ],
   "source": [
    "v=re.search(r\"\\bP\\w+\" ,text)\n",
    "print(v.group())"
   ]
  },
  {
   "cell_type": "code",
   "execution_count": 189,
   "id": "24adccda",
   "metadata": {},
   "outputs": [
    {
     "name": "stdout",
     "output_type": "stream",
     "text": [
      "Hello, I am Priyanshi Srivastav from Bhilwara, I am working in Ag tech. as RPA developer.My email address is priyanshisrivastava23@gmail.com and conact number is 9483925745 post code is 271865\n"
     ]
    }
   ],
   "source": [
    "v= re.sub(\"contact\", \"phone\", text)\n",
    "print(v)"
   ]
  },
  {
   "cell_type": "code",
   "execution_count": null,
   "id": "e5e0066d",
   "metadata": {},
   "outputs": [],
   "source": []
  },
  {
   "cell_type": "code",
   "execution_count": null,
   "id": "9f609734",
   "metadata": {},
   "outputs": [],
   "source": []
  },
  {
   "cell_type": "markdown",
   "id": "f1f63cc6",
   "metadata": {},
   "source": [
    "***Q: Create a file manager function that will perform different actions like creating a file/folder renaming a file/folder etc***"
   ]
  },
  {
   "cell_type": "code",
   "execution_count": 166,
   "id": "06815989",
   "metadata": {},
   "outputs": [
    {
     "name": "stdout",
     "output_type": "stream",
     "text": [
      "<-------------------------------File Manager--------------------------------->\n",
      "1.Make Folder\n",
      "2.Remove Folder\n",
      "3.Rename Folder\n",
      "4.Make a File\n",
      "5.Remove file\n",
      "6.Rename File\n",
      "7.Add Data to File\n",
      "Enter the number:7\n"
     ]
    }
   ],
   "source": [
    "print(\"<-------------------------------File Manager--------------------------------->\")\n",
    "print(\"1.Make Folder\")\n",
    "print(\"2.Remove Folder\")\n",
    "print(\"3.Rename Folder\")\n",
    "print(\"4.Make a File\")\n",
    "print(\"5.Remove file\")\n",
    "print(\"6.Rename File\")\n",
    "print('7.Add Data to File')\n",
    "operation=int(input(\"Enter the number:\"))\n",
    "if operation==1:\n",
    "    print(\"--------------------Make Folder-----------------\")\n",
    "    name= input(\"Enter the folder name:\")\n",
    "    os.mkdir(\"D:/\"+ name)\n",
    "\n",
    "elif operation==2:\n",
    "    print(\"-------------------Remove Folder----------------\")\n",
    "    name= input(\"Enter the folder name want to remove:\")\n",
    "    if os.path.exists(\"D:/\"+ name):\n",
    "        os.rmdir(\"D:/\"+ name)\n",
    "        print(\"Folder Remove Successfully\")\n",
    "    else:\n",
    "        print(\"Folder doesn't exist\")\n",
    "elif operation==3:\n",
    "    print(\"--------------------Rename Folder--------------\")\n",
    "    old_dir= input(\"Enter the folder name want to rename:\")\n",
    "    if os.path.exists(\"D:/\"+ old_dir):\n",
    "        new_dir=input(\"Enter the new folder\")\n",
    "        os.rename(\"D:/\"+ old_dir,\"D:/\"+ new_dir,)\n",
    "        print(\"Folder \"+ old_dir+\" rename as \"+ new_dir+ \" successfully\")\n",
    "    else:\n",
    "        print(\"Folder doesn't exist\")\n",
    "\n",
    "elif operation==4:\n",
    "    print(\"1.text file\")\n",
    "    print(\"2.csv file\")\n",
    "    print(\"3.Doc file\")\n",
    "    print(\"4.xlsx file\")\n",
    "    print(\"-------------Make a File------------------\")   \n",
    "    choose_file_type=int(input(\"Enter no. of file type want to create.::\"))\n",
    "    file_name= input(\"Enter the file name:\")\n",
    "    if choose_file_type ==1:\n",
    "        file = open(\"D:/\"+ file_name + \".txt\", \"w\")\n",
    "        file.close()\n",
    "        print(file_name + \" Created Successfully!! \")\n",
    "    elif choose_file_type ==2:\n",
    "        file = open(\"D:/\"+ file_name + \".csv\", \"w\")\n",
    "        file.close()\n",
    "        print(file_name + \" Created Successfully!! \")\n",
    "    elif choose_file_type ==3:\n",
    "        file = open(\"D:/\"+ file_name + \".doc\", \"w\")\n",
    "        file.close()\n",
    "        print(file_name + \" Created Successfully!! \")\n",
    "    elif choose_file_type ==4:\n",
    "        file = open(\"D:/\"+ file_name + \".xlsx\", \"w\")\n",
    "        file.close()\n",
    "        print(file_name + \" Created Successfully!! \")\n",
    "    else:\n",
    "        print(\"Invalid Operation!!\")\n",
    "elif operation==5:\n",
    "    print(\"------------------Remove file---------------\")\n",
    "    file_name= input(\"Enter the file name want to remove:\")\n",
    "    if os.path.exists(\"D:/\"+ file_name +\".txt\"):\n",
    "        os.remove(\"D:/\"+ file_name +\".txt\")\n",
    "        print(\"File Remove Successfully\")\n",
    "    elif os.path.exists(\"D:/\"+ file_name +\".doc\"):\n",
    "        os.remove(\"D:/\"+ file_name +\".doc\")\n",
    "        print(\"File Remove Successfully\")\n",
    "    elif os.path.exists(\"D:/\"+ file_name +\".csv\"):\n",
    "        os.remove(\"D:/\"+ file_name +\".csv\")\n",
    "        print(\"File Remove Successfully\")\n",
    "    elif os.path.exists(\"D:/\"+ file_name +\".xlsx\"):\n",
    "        os.remove(\"D:/\"+ file_name +\".xlsx\")\n",
    "        print(\"File Remove Successfully\")\n",
    "    else:\n",
    "        print(\"File doesn't exist\")\n",
    "elif operation==6:\n",
    "    print(\"------------------Rename file---------------\")\n",
    "    old_file= input(\"Enter the file name want to rename:\")\n",
    "    if os.path.exists(\"D:/\"+ old_file+\".txt\"):\n",
    "        new_file=input(\"Enter the new file\")\n",
    "        os.rename(\"D:/\"+ old_file +\".txt\",\"D:/\"+ new_file+\".txt\")\n",
    "        print(\"Folder \"+ old_file+\" rename as \"+ new_file+ \" successfully\")\n",
    "    elif os.path.exists(\"D:/\"+ old_file+\".doc\"):\n",
    "        new_file=input(\"Enter the new file\")\n",
    "        os.rename(\"D:/\"+ old_file +\".doc\",\"D:/\"+ new_file+\".doc\")\n",
    "        print(\"Folder \"+ old_file+\" rename as \"+ new_file+ \" successfully\")\n",
    "    elif os.path.exists(\"D:/\"+ old_file+\".csv\"):\n",
    "        new_file=input(\"Enter the new file\")\n",
    "        os.rename(\"D:/\"+ old_file+ \".csv\",\"D:/\"+ new_file+ \".csv\")\n",
    "        print(\"Folder \"+ old_file+\" rename as \"+ new_file+ \" successfully\")\n",
    "    elif os.path.exists(\"D:/\"+ old_file+\".xlsx\"):\n",
    "        new_file=input(\"Enter the new file\")\n",
    "        os.rename(\"D:/\"+ old_file +\".xlsx\",\"D:/\"+ new_file+\".xlsx\")\n",
    "        print(\"Folder \"+ old_file+\" rename as \"+ new_file+ \" successfully\")       \n",
    "    else:\n",
    "        print(\"Folder doesn't exist\") \n",
    "elif operation==7:  \n",
    "print(\"---------------Add Data to File----------------------\")\n",
    "    with open(\"D:/File handling/text.txt\",\"w\")as f:\n",
    "        f.write(\"Hello, I am Priyanshi Srivastav from Bhilwara, I am working in Ag tech. as RPA developer.My email address is priyanshisrivastava23@gmail.com and conact number is 9483925745 post code is 271865\" )\n",
    "else:\n",
    "    print(\"<----Invaild Operation Perform-------->\")"
   ]
  },
  {
   "cell_type": "markdown",
   "id": "0f8e67b9",
   "metadata": {},
   "source": [
    "#### "
   ]
  },
  {
   "cell_type": "markdown",
   "id": "be6b0feb",
   "metadata": {},
   "source": [
    "##### "
   ]
  },
  {
   "cell_type": "code",
   "execution_count": null,
   "id": "834f79cd",
   "metadata": {},
   "outputs": [],
   "source": []
  }
 ],
 "metadata": {
  "kernelspec": {
   "display_name": "Python 3 (ipykernel)",
   "language": "python",
   "name": "python3"
  },
  "language_info": {
   "codemirror_mode": {
    "name": "ipython",
    "version": 3
   },
   "file_extension": ".py",
   "mimetype": "text/x-python",
   "name": "python",
   "nbconvert_exporter": "python",
   "pygments_lexer": "ipython3",
   "version": "3.10.5"
  }
 },
 "nbformat": 4,
 "nbformat_minor": 5
}
