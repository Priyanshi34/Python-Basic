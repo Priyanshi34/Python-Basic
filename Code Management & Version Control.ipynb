{
 "cells": [
  {
   "cell_type": "markdown",
   "id": "98814625",
   "metadata": {},
   "source": [
    "## VS Code\n",
    "An opensource code editor with powerful developer tooling, like IntelliSense code completion and debugging. VS code is cross platform so it can be used on Windows, MAC & Linux\n",
    "\n",
    "* Integrated Command Line\n",
    "* Git Integration\n",
    "* Code Formating\n",
    "* Developer Plugings\n",
    "* IntelliSense/Autosuggest\n",
    "\n",
    "To install VS code on your local system download the software from here https://code.visualstudio.com/download\n",
    "\n",
    "## Git\n",
    "Git is an extremely popular version control system that is used in almost all the projects these days. Git is installed and maintained on your local system (rather than in the cloud) and gives you a self-contained record of your ongoing programming versions.\n",
    "\n",
    "To install git on your local system goto this page and download the software https://git-scm.com/downloads\n",
    "\n",
    "#### Common Git Commands\n",
    "* Git clone - Clone a repo on local system\n",
    "* Git branch - To list out branches\n",
    "* Git checkout - To goto a specific branch\n",
    "* Git status - To check the status of the local changes\n",
    "* Git add - To add files to stage\n",
    "* Git commit - Save the added file and git will generate a commit hash for every commit\n",
    "* Git push - To push the local changes to remote reposetory\n",
    "* Git pull - To pull the code from remote branch to local machine\n",
    "\n",
    "\n",
    "## Version Control\n",
    "Version control is like a savings program for your project. By tracking and logging the changes you make to your file or file sets over time, a version-control system gives you the power to review or even restore earlier versions.\n",
    "\n",
    "## Github\n",
    "GitHub is a web-based Git repository hosting service, which offers all of the distributed revision control and source code management (SCM) functionality of Git as well as adding its own features. "
   ]
  },
  {
   "cell_type": "code",
   "execution_count": null,
   "id": "7706b272",
   "metadata": {},
   "outputs": [],
   "source": []
  },
  {
   "cell_type": "code",
   "execution_count": null,
   "id": "c1c8cc3d",
   "metadata": {},
   "outputs": [],
   "source": []
  },
  {
   "cell_type": "code",
   "execution_count": null,
   "id": "3be8bdd6",
   "metadata": {},
   "outputs": [],
   "source": []
  },
  {
   "cell_type": "markdown",
   "id": "1f1d48a4",
   "metadata": {},
   "source": [
    "**Create a github repo and add all the previous assignment in that repository**"
   ]
  },
  {
   "cell_type": "code",
   "execution_count": null,
   "id": "1496ea58",
   "metadata": {},
   "outputs": [],
   "source": []
  }
 ],
 "metadata": {
  "kernelspec": {
   "display_name": "Python 3 (ipykernel)",
   "language": "python",
   "name": "python3"
  },
  "language_info": {
   "codemirror_mode": {
    "name": "ipython",
    "version": 3
   },
   "file_extension": ".py",
   "mimetype": "text/x-python",
   "name": "python",
   "nbconvert_exporter": "python",
   "pygments_lexer": "ipython3",
   "version": "3.10.5"
  }
 },
 "nbformat": 4,
 "nbformat_minor": 5
}
