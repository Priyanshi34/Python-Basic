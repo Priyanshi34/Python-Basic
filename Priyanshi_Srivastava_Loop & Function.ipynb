{
 "cells": [
  {
   "cell_type": "markdown",
   "id": "9e62b767",
   "metadata": {},
   "source": [
    "## Loop & Functions\n",
    "\n",
    "\n",
    "### Loop\n",
    "We handle repetetive tasks with the help of loop. If you want to print \"hello world\"10 times, we can run loop instead of writing print(\"hello world\") 10 times. Here, we will discuss 4 types of Python Loop\n",
    "\n",
    "1. Python For Loop\n",
    "    * Python for loop can iterate over a sequence of items. In Python, we use the ‘in’ keyword to execute a for loop\n",
    "    * range function\n",
    "2. Python While Loop\n",
    "    * A while loop in python iterates till its condition becomes False. In other words, it executes the statements under itself while the condition it takes is True.\n",
    "3. Python Loop Control Statements\n",
    "    * break statement\n",
    "    * continue statement\n",
    "    * pass statement\n",
    "4. Nested For Loop in Python\n",
    "    * You can also nest a loop inside another.\n",
    "    \n",
    "### Function\n",
    "A function is a block of code which only runs when it is called. You can pass data, known as parameters, into a function. A function can return data as a result. we use functions to avoid writing the same code multiple times\n",
    "\n",
    "\n",
    "#### Rules for Function Definition\n",
    "The rules for function definition is same as variable. Just try to name the function based on what is does\n",
    "\n",
    "#### Creating a function\n",
    "\n",
    "```python\n",
    "def my_function():\n",
    "  print(\"Hello from a function\")\n",
    "```\n",
    "\n",
    "#### Calling a function\n",
    "```python\n",
    "my_function()\n",
    "```\n",
    "\n",
    "#### Parameters and Agruments\n",
    "Generally functions take input, they process that input and return or print the result. The input passed to the function are called Arguments/Parameters.\n",
    "\n",
    "Arguments are specified after the function name, inside the parentheses. You can add as many arguments as you want, just separate them with a comma. Here is an example\n",
    "\n",
    "```python\n",
    "def sum2(a,b):\n",
    "    print(f\"{a}+{b}={a+b}\")\n",
    "    \n",
    "sum2(3, 2)\n",
    "```\n",
    "\n",
    "#### Args (Non Keyword Arguments)\n",
    "To Accept undefined number of arguments as a list\n",
    "\n",
    "#### Kwargs (Keyword Arguments)\n",
    "To Accept undefined number of arguments as a dictionary"
   ]
  },
  {
   "cell_type": "code",
   "execution_count": 83,
   "id": "85ed7c57",
   "metadata": {},
   "outputs": [
    {
     "name": "stdout",
     "output_type": "stream",
     "text": [
      "Hello World\n",
      "Hello World\n",
      "Hello World\n",
      "Hello World\n"
     ]
    }
   ],
   "source": [
    "hello = \"Hello World\"\n",
    "\n",
    "for item in range(1, 5):\n",
    "    print(hello)"
   ]
  },
  {
   "cell_type": "code",
   "execution_count": 84,
   "id": "4bdbae5f",
   "metadata": {},
   "outputs": [
    {
     "name": "stdout",
     "output_type": "stream",
     "text": [
      "H\n",
      "e\n",
      "l\n",
      "l\n",
      "o\n",
      " \n",
      "W\n",
      "o\n",
      "r\n",
      "l\n",
      "d\n"
     ]
    }
   ],
   "source": [
    "for i in hello:\n",
    "    print(i)"
   ]
  },
  {
   "cell_type": "code",
   "execution_count": 90,
   "id": "85a735e8",
   "metadata": {},
   "outputs": [
    {
     "name": "stdout",
     "output_type": "stream",
     "text": [
      "1\n",
      "2\n",
      "4\n"
     ]
    }
   ],
   "source": [
    "list1 = [1,2,3,4]\n",
    "for i in list1:\n",
    "    if i == 3:\n",
    "        break\n",
    "    else:\n",
    "        print(i)"
   ]
  },
  {
   "cell_type": "code",
   "execution_count": 91,
   "id": "f81bdfd4",
   "metadata": {},
   "outputs": [
    {
     "name": "stdout",
     "output_type": "stream",
     "text": [
      "1\n",
      "2\n",
      "4\n"
     ]
    }
   ],
   "source": [
    "list1 = [1,2,3,4]\n",
    "for i in list1:\n",
    "    if i == 3:\n",
    "        continue\n",
    "        print(i)\n",
    "    else:\n",
    "        print(i)"
   ]
  },
  {
   "cell_type": "code",
   "execution_count": 93,
   "id": "2d18ef15",
   "metadata": {},
   "outputs": [
    {
     "name": "stdout",
     "output_type": "stream",
     "text": [
      "1\n",
      "2\n",
      "4\n"
     ]
    }
   ],
   "source": [
    "list1 = [1,2,3,4]\n",
    "for i in list1:\n",
    "    if i == 3:\n",
    "        \"\"\"\n",
    "        Requirement is not defined yet\n",
    "        \"\"\"\n",
    "        pass\n",
    "    else:\n",
    "        print(i)"
   ]
  },
  {
   "cell_type": "code",
   "execution_count": 96,
   "id": "876d913f",
   "metadata": {},
   "outputs": [
    {
     "name": "stdout",
     "output_type": "stream",
     "text": [
      "1\n",
      "2\n"
     ]
    }
   ],
   "source": [
    "a = 1\n",
    "while a < 10:\n",
    "    \n",
    "    if a == 3:\n",
    "        break\n",
    "        print(a)\n",
    "    else:\n",
    "        print(a)\n",
    "    a += 1\n",
    "    "
   ]
  },
  {
   "cell_type": "code",
   "execution_count": 98,
   "id": "6fcc2e5b",
   "metadata": {},
   "outputs": [
    {
     "name": "stdout",
     "output_type": "stream",
     "text": [
      "2\n",
      "4\n",
      "5\n",
      "6\n",
      "7\n",
      "8\n",
      "9\n",
      "10\n"
     ]
    }
   ],
   "source": [
    "a = 1\n",
    "while a < 10:\n",
    "    a += 1\n",
    "    if a == 3:\n",
    "        continue\n",
    "        print(a)\n",
    "    else:\n",
    "        print(a)"
   ]
  },
  {
   "cell_type": "code",
   "execution_count": 99,
   "id": "5b0f7142",
   "metadata": {},
   "outputs": [
    {
     "name": "stdout",
     "output_type": "stream",
     "text": [
      "2\n",
      "3\n",
      "4\n",
      "5\n",
      "6\n",
      "7\n",
      "8\n",
      "9\n",
      "10\n"
     ]
    }
   ],
   "source": [
    "a = 1\n",
    "while a < 10:\n",
    "    a += 1\n",
    "    if a == 3:\n",
    "        pass\n",
    "        print(a)\n",
    "    else:\n",
    "        print(a)"
   ]
  },
  {
   "cell_type": "code",
   "execution_count": 138,
   "id": "1dcd2ede",
   "metadata": {},
   "outputs": [],
   "source": [
    "def add(num1, num2, *a, **k):\n",
    "    \"\"\"\n",
    "    num1: int - 1st number that this function will accept\n",
    "    num2: int - 2nd number that this function will accept\n",
    "    \n",
    "    This function will add two numbers and return the value\n",
    "    \"\"\"\n",
    "    print(a)\n",
    "    print(k, \"dict\")\n",
    "    if k['action'] == 'add':\n",
    "        return num1 + num2\n",
    "    else:\n",
    "        return num1 * num2"
   ]
  },
  {
   "cell_type": "code",
   "execution_count": 139,
   "id": "6cfd3e0d",
   "metadata": {},
   "outputs": [
    {
     "name": "stdout",
     "output_type": "stream",
     "text": [
      "(3,)\n",
      "{'action': 'somthing else'} dict\n",
      "2\n"
     ]
    }
   ],
   "source": [
    "res = add(1, 2, 3, action=\"somthing else\")\n",
    "print(res)"
   ]
  },
  {
   "cell_type": "code",
   "execution_count": 13,
   "id": "12304964",
   "metadata": {},
   "outputs": [
    {
     "name": "stdout",
     "output_type": "stream",
     "text": [
      "1\n",
      "2\n",
      "3\n",
      "4\n",
      "5\n",
      "6\n",
      "7\n",
      "8\n",
      "9\n",
      "10\n",
      "11\n",
      "12\n",
      "13\n",
      "14\n",
      "15\n",
      "16\n",
      "17\n",
      "18\n",
      "19\n",
      "20\n",
      "21\n",
      "22\n",
      "23\n",
      "24\n",
      "25\n",
      "26\n",
      "27\n",
      "28\n",
      "29\n",
      "30\n",
      "31\n",
      "32\n",
      "33\n",
      "34\n",
      "35\n",
      "36\n",
      "37\n",
      "38\n",
      "39\n",
      "40\n",
      "41\n",
      "42\n",
      "43\n",
      "44\n",
      "45\n",
      "46\n",
      "47\n",
      "48\n",
      "49\n",
      "50\n",
      "51\n",
      "52\n",
      "53\n",
      "54\n",
      "55\n",
      "56\n",
      "57\n",
      "58\n",
      "59\n",
      "60\n",
      "61\n",
      "62\n",
      "63\n",
      "64\n",
      "65\n",
      "66\n",
      "67\n",
      "68\n",
      "69\n",
      "70\n",
      "71\n",
      "72\n",
      "73\n",
      "74\n",
      "75\n",
      "76\n",
      "77\n",
      "78\n",
      "79\n",
      "80\n",
      "81\n",
      "82\n",
      "83\n",
      "84\n",
      "85\n",
      "86\n",
      "87\n",
      "88\n",
      "89\n",
      "90\n"
     ]
    }
   ],
   "source": [
    "x = 0\n",
    "for i in range(10):\n",
    "  for j in range(-1, -10, -1):\n",
    "    x += 1\n",
    "    print(x)"
   ]
  },
  {
   "cell_type": "code",
   "execution_count": null,
   "id": "41c5e6f1",
   "metadata": {},
   "outputs": [],
   "source": []
  },
  {
   "cell_type": "code",
   "execution_count": null,
   "id": "7ce26292",
   "metadata": {},
   "outputs": [],
   "source": []
  },
  {
   "cell_type": "markdown",
   "id": "9bd53be2",
   "metadata": {},
   "source": [
    "### Assignment for Loop\n",
    "***Q: What is Loop in Python? Explain with example.***</br>\n",
    "***Q: What is the syntax of for loop in Python?***</br>\n",
    "***Q: How do you write a loop in Python?***</br>\n",
    "***Q: How many types of loops are there in Python?***</br>\n",
    "***Q: What are loops used for in Python?***</br>\n",
    "\n",
    "Complete the quiz on loop\n",
    "https://pynative.com/python-if-else-and-for-loop-quiz/"
   ]
  },
  {
   "cell_type": "code",
   "execution_count": null,
   "id": "96c1110a",
   "metadata": {},
   "outputs": [],
   "source": [
    "Ans.#What is Loop in Python? Explain with example.\n",
    "A loop is a repeat a specific block of code a known number of times."
   ]
  },
  {
   "cell_type": "code",
   "execution_count": null,
   "id": "086001f0",
   "metadata": {},
   "outputs": [],
   "source": [
    "Ans. #What is the syntax of for loop in Python?\n",
    "for iterator_var in sequence:\n",
    "    statements(x)"
   ]
  },
  {
   "cell_type": "code",
   "execution_count": 4,
   "id": "b5b787a6",
   "metadata": {},
   "outputs": [
    {
     "name": "stdout",
     "output_type": "stream",
     "text": [
      "0\n",
      "1\n",
      "2\n",
      "3\n",
      "4\n",
      "5\n",
      "6\n",
      "7\n",
      "8\n",
      "9\n"
     ]
    }
   ],
   "source": [
    "# How do you write a loop in Python?\n",
    "for x in range(10):\n",
    "    print (x)"
   ]
  },
  {
   "cell_type": "code",
   "execution_count": 5,
   "id": "3821ddc4",
   "metadata": {},
   "outputs": [
    {
     "name": "stdout",
     "output_type": "stream",
     "text": [
      "1\n",
      "2\n",
      "3\n",
      "4\n",
      "5\n",
      "6\n",
      "7\n",
      "8\n",
      "9\n"
     ]
    }
   ],
   "source": [
    "for x in range(1,10):\n",
    "    print (x)"
   ]
  },
  {
   "cell_type": "code",
   "execution_count": 6,
   "id": "ae86537b",
   "metadata": {},
   "outputs": [
    {
     "name": "stdout",
     "output_type": "stream",
     "text": [
      "P\n",
      "r\n",
      "i\n",
      "y\n",
      "a\n",
      "n\n",
      "s\n",
      "h\n",
      "i\n"
     ]
    }
   ],
   "source": [
    "for x in \"Priyanshi\":\n",
    "    print(x)"
   ]
  },
  {
   "cell_type": "code",
   "execution_count": 8,
   "id": "947768e3",
   "metadata": {},
   "outputs": [
    {
     "name": "stdout",
     "output_type": "stream",
     "text": [
      "Neha\n",
      "Ritu\n",
      "Priya\n",
      "Pihu\n",
      "1\n",
      "5\n"
     ]
    }
   ],
   "source": [
    "#Print the list with for loop.\n",
    "name = [\"Neha\", \"Ritu\", \"Priya\",\"Pihu\",1,5]\n",
    "for x in name:\n",
    "  print(x)"
   ]
  },
  {
   "cell_type": "code",
   "execution_count": null,
   "id": "cd50d205",
   "metadata": {},
   "outputs": [],
   "source": [
    "Ans.#How many types of loops are there in Python?\n",
    " There are Two types of loops  in Python \n",
    "1. While loop:This loop executes till the given condition is true.\n",
    "2. For Loop: This loop iterates till the specified condition doesnt becomes False."
   ]
  },
  {
   "cell_type": "code",
   "execution_count": null,
   "id": "15a23be7",
   "metadata": {},
   "outputs": [],
   "source": [
    "Ans.#What are loops used for in Python?\n",
    "A loop is used for repeats a sequence of instructions until a specific condition is met."
   ]
  },
  {
   "cell_type": "markdown",
   "id": "a80b8399",
   "metadata": {},
   "source": [
    "### Assignment for Function\n",
    "\n",
    "***Q: What are function Arguments in Python??***</br>\n",
    "***Q: How do you create a function argument in Python??***</br>\n",
    "***Q: How do you check if a function is an argument in Python??***</br>\n",
    "***Q: What is an argument in Python? Give an example.?***</br>\n",
    "***Q: What are the types of function arguments in Python??***</br>\n",
    "\n",
    "Complete the quiz on functions\n",
    "https://pynative.com/python-functions-quiz/"
   ]
  },
  {
   "cell_type": "code",
   "execution_count": null,
   "id": "e3d80ecd",
   "metadata": {},
   "outputs": [],
   "source": [
    "Ans.#What are function Arguments in Python?\n",
    "Arguments are a type of information or value that are in the parentheses and can be passed to a function."
   ]
  },
  {
   "cell_type": "code",
   "execution_count": 30,
   "id": "80b269e4",
   "metadata": {},
   "outputs": [
    {
     "name": "stdout",
     "output_type": "stream",
     "text": [
      "Priyanshi Srivastava\n"
     ]
    }
   ],
   "source": [
    "Ans.#How do you create a function argument in Python?\n",
    "Function arguments are placed within the parentheses just after the function_name. \n",
    "For Example:\n",
    "def function_name(argument1, argument2, ....)\n",
    "    function body\n",
    "    \n",
    "   "
   ]
  },
  {
   "cell_type": "code",
   "execution_count": null,
   "id": "0bc6725b",
   "metadata": {},
   "outputs": [],
   "source": [
    "Ans. # What is an argument in Python? Give an example.?\n",
    "    Arguments are the values that are sent to the functions during the call of function. Argument may be variable, object, function.\n",
    "For Example:\n",
    "def function(arguments1,arguments2, ...):\n",
    "    function body\n",
    "    \n",
    "def fun(fname, lname):\n",
    "    print(fname + \" \" + lname)\n",
    "    fun(\"Priyanshi\", \"Srivastava\")"
   ]
  },
  {
   "cell_type": "code",
   "execution_count": null,
   "id": "458527ac",
   "metadata": {},
   "outputs": [],
   "source": [
    "Ans.# What are the types of function arguments in Python?\n",
    "There are 4 types of function arguments:\n",
    "1. Default Arguments: are provided while providing values.\n",
    "    For Example:\n",
    "    def add(a,b=8,c=10):\n",
    "        return (a+b+c)\n",
    "2. Keyword Argument: are those which arguments are given in form of kwargs = value.\n",
    "    For Example:\n",
    "    def add(a,b=5,c=10):\n",
    "        return (a+b+c)\n",
    "3. Positional Arguments: values are passed in position/order of arguments.\n",
    "4. arbitrary positional arguments: * asterisk is added before a parameter which can holds a non-length arguments.\n",
    "    For Example:\n",
    "    def add(*b):\n",
    "        result=0\n",
    "        for i in b:\n",
    "             result=result+i\n",
    "        return result\n",
    "\n",
    "print (add(1,2,3,4,5))\n",
    "#Output:15\n",
    "print (add(10,20))\n",
    "#Output:30"
   ]
  },
  {
   "cell_type": "code",
   "execution_count": null,
   "id": "e162672a",
   "metadata": {},
   "outputs": [],
   "source": []
  }
 ],
 "metadata": {
  "kernelspec": {
   "display_name": "Python 3 (ipykernel)",
   "language": "python",
   "name": "python3"
  },
  "language_info": {
   "codemirror_mode": {
    "name": "ipython",
    "version": 3
   },
   "file_extension": ".py",
   "mimetype": "text/x-python",
   "name": "python",
   "nbconvert_exporter": "python",
   "pygments_lexer": "ipython3",
   "version": "3.10.5"
  }
 },
 "nbformat": 4,
 "nbformat_minor": 5
}
